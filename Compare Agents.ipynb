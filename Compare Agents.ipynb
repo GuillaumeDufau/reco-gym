{
 "cells": [
  {
   "cell_type": "markdown",
   "metadata": {},
   "source": [
    "## Comparing Agent Performance\n",
    "\n",
    "This notebook compares the performance of a selection of our included agents. The results presented are the median CTR that one would achieve if the agent was used to recommend products to 100 test users after being trained."
   ]
  },
  {
   "cell_type": "code",
   "execution_count": 2,
   "metadata": {},
   "outputs": [],
   "source": [
    "import gym, reco_gym\n",
    "from reco_gym import env_1_args\n",
    "\n",
    "from copy import deepcopy\n",
    "\n",
    "env_1_args['random_seed'] = 42\n",
    "\n",
    "env = gym.make('reco-gym-v1')\n",
    "env.init_gym(env_1_args);\n",
    "\n",
    "from agents import BanditMFSquare, bandit_mf_square_args\n",
    "from agents import BanditCount, bandit_count_args\n",
    "from agents import RandomAgent, random_args\n",
    "\n",
    "bandit_mf_square_args['num_products'] = env_1_args['num_products']\n",
    "bandit_count_args['num_products'] = env_1_args['num_products']\n",
    "random_args['num_products'] = env_1_args['num_products']\n",
    "\n",
    "\n",
    "agent_banditmfsquare = BanditMFSquare(bandit_mf_square_args)\n",
    "agent_banditcount = BanditCount(bandit_count_args)\n",
    "agent_rand = RandomAgent(random_args)\n"
   ]
  },
  {
   "cell_type": "code",
   "execution_count": 8,
   "metadata": {},
   "outputs": [
    {
     "name": "stdout",
     "output_type": "stream",
     "text": [
      "Starting Agent Training\n",
      "Starting Agent Testing\n"
     ]
    },
    {
     "data": {
      "text/plain": [
       "(0.016398015833729053, 0.013827646782429794, 0.019263246169145432)"
      ]
     },
     "execution_count": 8,
     "metadata": {},
     "output_type": "execute_result"
    }
   ],
   "source": [
    "# credible interval of the ctr median and 0.025 0.975 quantile\n",
    "reco_gym.test_agent(deepcopy(env), deepcopy(agent_rand), 100, 100) "
   ]
  },
  {
   "cell_type": "code",
   "execution_count": 9,
   "metadata": {},
   "outputs": [
    {
     "name": "stdout",
     "output_type": "stream",
     "text": [
      "Starting Agent Training\n",
      "Starting Agent Testing\n"
     ]
    },
    {
     "data": {
      "text/plain": [
       "(0.023203544910510562, 0.020111522837276886, 0.026589541317689092)"
      ]
     },
     "execution_count": 9,
     "metadata": {},
     "output_type": "execute_result"
    }
   ],
   "source": [
    "# credible interval of the ctr median and 0.025 0.975 quantile\n",
    "reco_gym.test_agent(deepcopy(env), deepcopy(agent_banditcount), 100, 100)"
   ]
  },
  {
   "cell_type": "code",
   "execution_count": 10,
   "metadata": {},
   "outputs": [
    {
     "name": "stdout",
     "output_type": "stream",
     "text": [
      "Starting Agent Training\n",
      "Starting Agent Testing\n"
     ]
    },
    {
     "data": {
      "text/plain": [
       "(0.02631925375144134, 0.022884184341840641, 0.030072387010741108)"
      ]
     },
     "execution_count": 10,
     "metadata": {},
     "output_type": "execute_result"
    }
   ],
   "source": [
    "# credible interval of the ctr median and 0.025 0.975 quantile\n",
    "reco_gym.test_agent(deepcopy(env), deepcopy(agent_banditmfsquare), 100, 100)"
   ]
  },
  {
   "cell_type": "markdown",
   "metadata": {},
   "source": [
    "As can be seen from the higher median CTR, the agent which performs matrix factorization on the bandit data performs the best!"
   ]
  }
 ],
 "metadata": {
  "kernelspec": {
   "display_name": "Python 3",
   "language": "python",
   "name": "python3"
  },
  "language_info": {
   "codemirror_mode": {
    "name": "ipython",
    "version": 3
   },
   "file_extension": ".py",
   "mimetype": "text/x-python",
   "name": "python",
   "nbconvert_exporter": "python",
   "pygments_lexer": "ipython3",
   "version": "3.7.0"
  }
 },
 "nbformat": 4,
 "nbformat_minor": 2
}
