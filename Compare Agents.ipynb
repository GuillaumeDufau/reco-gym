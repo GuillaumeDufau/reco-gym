{
 "cells": [
  {
   "cell_type": "markdown",
   "metadata": {},
   "source": [
    "## Comparing Agent Performance\n",
    "\n",
    "This notebook compares the performance of a selection of our included agents. The results presented are the median CTR that one would achieve if the agent were used to recommend products to 100 test users after being trained."
   ]
  },
  {
   "cell_type": "code",
   "execution_count": 1,
   "metadata": {},
   "outputs": [],
   "source": [
    "import gym, reco_gym\n",
    "from reco_gym import env_1_args\n",
    "\n",
    "from copy import deepcopy\n",
    "\n",
    "env_1_args['random_seed'] = 42\n",
    "\n",
    "env = gym.make('reco-gym-v1')\n",
    "env.init_gym(env_1_args)\n",
    "\n",
    "from agents import BanditMFSquare, bandit_mf_square_args\n",
    "from agents import BanditCount, bandit_count_args\n",
    "from agents import RandomAgent, random_args\n",
    "from reco_gym import Configuration\n",
    "\n",
    "agent_banditmfsquare = BanditMFSquare(Configuration({\n",
    "    **env_1_args,\n",
    "    **bandit_mf_square_args,\n",
    "}))\n",
    "agent_banditcount = BanditCount(Configuration({\n",
    "    **env_1_args,\n",
    "    **bandit_count_args,\n",
    "}))\n",
    "agent_rand = RandomAgent(Configuration({\n",
    "    **env_1_args,\n",
    "    **random_args,\n",
    "}))"
   ]
  },
  {
   "cell_type": "code",
   "execution_count": 2,
   "metadata": {},
   "outputs": [
    {
     "name": "stdout",
     "output_type": "stream",
     "text": [
      "Starting Agent Training\n",
      "Starting Agent Testing\n"
     ]
    },
    {
     "data": {
      "text/plain": [
       "(0.018389011859971053, 0.015850317633055236, 0.02118006137145867)"
      ]
     },
     "execution_count": 2,
     "metadata": {},
     "output_type": "execute_result"
    }
   ],
   "source": [
    "# Credible interval of the CTR median and 0.025 0.975 quantile.\n",
    "reco_gym.test_agent(deepcopy(env), deepcopy(agent_rand), 100, 100) "
   ]
  },
  {
   "cell_type": "code",
   "execution_count": 3,
   "metadata": {},
   "outputs": [
    {
     "name": "stdout",
     "output_type": "stream",
     "text": [
      "Starting Agent Training\n",
      "Starting Agent Testing\n"
     ]
    },
    {
     "data": {
      "text/plain": [
       "(0.026347227413778082, 0.023207271550585093, 0.02975048308122863)"
      ]
     },
     "execution_count": 3,
     "metadata": {},
     "output_type": "execute_result"
    }
   ],
   "source": [
    "# Credible interval of the CTR median and 0.025 0.975 quantile.\n",
    "reco_gym.test_agent(deepcopy(env), deepcopy(agent_banditcount), 100, 100)"
   ]
  },
  {
   "cell_type": "code",
   "execution_count": 4,
   "metadata": {},
   "outputs": [
    {
     "name": "stdout",
     "output_type": "stream",
     "text": [
      "Starting Agent Training\n",
      "Starting Agent Testing\n"
     ]
    },
    {
     "data": {
      "text/plain": [
       "(0.0298179380562043, 0.02637055503883854, 0.03354390444431099)"
      ]
     },
     "execution_count": 4,
     "metadata": {},
     "output_type": "execute_result"
    }
   ],
   "source": [
    "# Credible interval of the CTR median and 0.025 0.975 quantile.\n",
    "reco_gym.test_agent(deepcopy(env), deepcopy(agent_banditmfsquare), 100, 100)"
   ]
  },
  {
   "cell_type": "markdown",
   "metadata": {},
   "source": [
    "As can be seen from the higher median CTR, the agent which performs matrix factorisation on the bandit data performs the best!"
   ]
  }
 ],
 "metadata": {
  "kernelspec": {
   "display_name": "Python 3",
   "language": "python",
   "name": "python3"
  },
  "language_info": {
   "codemirror_mode": {
    "name": "ipython",
    "version": 3
   },
   "file_extension": ".py",
   "mimetype": "text/x-python",
   "name": "python",
   "nbconvert_exporter": "python",
   "pygments_lexer": "ipython3",
   "version": "3.7.1"
  }
 },
 "nbformat": 4,
 "nbformat_minor": 2
}
