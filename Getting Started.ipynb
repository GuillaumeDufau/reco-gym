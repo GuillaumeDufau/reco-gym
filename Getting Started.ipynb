{
 "cells": [
  {
   "cell_type": "markdown",
   "metadata": {},
   "source": [
    "## What is RecoGym?\n",
    "\n",
    "RecoGym is a Python [OpenAI Gym](https://gym.openai.com/) environment for testing recommendation algorithms.  It allows for the testing of both offline and reinforcement-learning based agents.  It provides a way to test algorithms in a toy environment quickly.\n",
    "\n",
    "In this notebook, we will code a simple recommendation agent that suggests an item in proportion to how many times it has been viewed.  We hope to inspire you to create your own agents and test them against our baseline models.\n",
    "\n",
    "In order to make the most out of RecoGym, we suggest you have some experience coding in Python, some background knowledge in recommender systems, and familiarity with the reinforcement learning setup.  Also, be sure to check out the python-based requirements in the README if something below errors."
   ]
  },
  {
   "cell_type": "markdown",
   "metadata": {},
   "source": [
    "## Reinforcement Learning Setup\n",
    "\n",
    "RecoGym follows the usual reinforcement learning setup.  This means there are interactions between the environment (the user's behaviour) and the agent (our recommendation algorithm).  The agent receives a reward if the user clicks on the recommendation."
   ]
  },
  {
   "cell_type": "markdown",
   "metadata": {},
   "source": [
    "<img src=\"images/rl-setup.png\" alt=\"Drawing\" style=\"width: 600px;\"/>"
   ]
  },
  {
   "cell_type": "markdown",
   "metadata": {},
   "source": [
    "## Organic and Bandit\n",
    "\n",
    "Even though our focus is biased towards online advertising, we tried to make RecoGym universal to all types of recommendation.  Hence, we introduce the domain-agnostic terms Organic and Bandit sessions.  An Organic session is an observation of items the user interacts with.  For example, it could be views of products on an e-commerce website, listens to songs while streaming music, or readings of articles on an online newspaper.  A Bandit session is one where we have an opportunity to recommend the user an item and observe their behaviour.  We receive a reward if they click.\n",
    "\n",
    "<img src=\"images/organic-bandit.png\" alt=\"Drawing\" style=\"width: 450px;\"/>"
   ]
  },
  {
   "cell_type": "markdown",
   "metadata": {},
   "source": [
    "## Offline and Online Learning\n",
    "\n",
    "This project was born out of a desire to improve Criteo's recommendation system by exploring reinforcement learning algorithms. We quickly realised that we couldn't just blindly apply RL algorithms in a production system out of the box. The learning period would be too costly. Instead, we need to leverage the vast amounts of offline training examples we already to make the algorithm perform as good as the current system before releasing into the online production environment.\n",
    "\n",
    "Thus, RecoGym follows a similar flow. An agent is first given access to many offline training examples produced from a fixed policy. Then, they have access to the online system where they choose the actions."
   ]
  },
  {
   "cell_type": "markdown",
   "metadata": {},
   "source": [
    "<img src=\"images/two-steps.png\" alt=\"Drawing\" style=\"width: 450px;\"/>"
   ]
  },
  {
   "cell_type": "markdown",
   "metadata": {},
   "source": [
    "## Let's see some code - Interacting with the environment \n",
    "\n",
    "\n",
    "The code snippet below shows how to initialise the environment and step through in an 'offline' manner (Here offline means that the environment is generating some recommendations for us).  We print out the results from the environment at each step."
   ]
  },
  {
   "cell_type": "code",
   "execution_count": 1,
   "metadata": {},
   "outputs": [
    {
     "name": "stdout",
     "output_type": "stream",
     "text": [
      "Step: 0 - Action: None - Observation: [('pageview', 4)] - Reward: None\n",
      "Step: 1 - Action: {'a': 9, 'ps': 0.1} - Observation: None - Reward: 0\n",
      "Step: 2 - Action: {'a': 3, 'ps': 0.1} - Observation: None - Reward: 0\n",
      "Step: 3 - Action: {'a': 6, 'ps': 0.1} - Observation: [('pageview', 5), ('pageview', 4), ('pageview', 5)] - Reward: 0\n",
      "Step: 4 - Action: {'a': 0, 'ps': 0.1} - Observation: None - Reward: 0\n",
      "Step: 5 - Action: {'a': 4, 'ps': 0.1} - Observation: [('pageview', 5)] - Reward: 0\n",
      "Step: 6 - Action: {'a': 2, 'ps': 0.1} - Observation: None - Reward: 0\n",
      "Step: 7 - Action: {'a': 3, 'ps': 0.1} - Observation: None - Reward: 0\n",
      "Step: 8 - Action: {'a': 6, 'ps': 0.1} - Observation: None - Reward: 0\n",
      "Step: 9 - Action: {'a': 9, 'ps': 0.1} - Observation: None - Reward: 0\n",
      "Step: 10 - Action: {'a': 5, 'ps': 0.1} - Observation: None - Reward: 0\n",
      "Step: 11 - Action: {'a': 8, 'ps': 0.1} - Observation: None - Reward: 0\n",
      "Step: 12 - Action: {'a': 4, 'ps': 0.1} - Observation: None - Reward: 0\n",
      "Step: 13 - Action: {'a': 5, 'ps': 0.1} - Observation: [('pageview', 7)] - Reward: 0\n",
      "Step: 14 - Action: {'a': 2, 'ps': 0.1} - Observation: None - Reward: 0\n",
      "Step: 15 - Action: {'a': 6, 'ps': 0.1} - Observation: None - Reward: 0\n",
      "Step: 16 - Action: {'a': 0, 'ps': 0.1} - Observation: None - Reward: 0\n",
      "Step: 17 - Action: {'a': 2, 'ps': 0.1} - Observation: None - Reward: 0\n",
      "Step: 18 - Action: {'a': 2, 'ps': 0.1} - Observation: None - Reward: 0\n",
      "Step: 19 - Action: {'a': 7, 'ps': 0.1} - Observation: None - Reward: 0\n",
      "Step: 20 - Action: {'a': 1, 'ps': 0.1} - Observation: None - Reward: 0\n",
      "Step: 21 - Action: {'a': 3, 'ps': 0.1} - Observation: None - Reward: 0\n",
      "Step: 22 - Action: {'a': 2, 'ps': 0.1} - Observation: None - Reward: 0\n",
      "Step: 23 - Action: {'a': 5, 'ps': 0.1} - Observation: None - Reward: 0\n",
      "Step: 24 - Action: {'a': 1, 'ps': 0.1} - Observation: None - Reward: 0\n",
      "Step: 25 - Action: {'a': 2, 'ps': 0.1} - Observation: None - Reward: 0\n",
      "Step: 26 - Action: {'a': 9, 'ps': 0.1} - Observation: None - Reward: 0\n",
      "Step: 27 - Action: {'a': 4, 'ps': 0.1} - Observation: None - Reward: 0\n",
      "Step: 28 - Action: {'a': 9, 'ps': 0.1} - Observation: None - Reward: 0\n",
      "Step: 29 - Action: {'a': 1, 'ps': 0.1} - Observation: [('pageview', 9), ('pageview', 9), ('pageview', 9), ('pageview', 9)] - Reward: 0\n",
      "Step: 30 - Action: {'a': 4, 'ps': 0.1} - Observation: None - Reward: 0\n",
      "Step: 31 - Action: {'a': 1, 'ps': 0.1} - Observation: None - Reward: 0\n",
      "Step: 32 - Action: {'a': 6, 'ps': 0.1} - Observation: None - Reward: 0\n",
      "Step: 33 - Action: {'a': 8, 'ps': 0.1} - Observation: None - Reward: 0\n",
      "Step: 34 - Action: {'a': 6, 'ps': 0.1} - Observation: None - Reward: 0\n",
      "Step: 35 - Action: {'a': 0, 'ps': 0.1} - Observation: None - Reward: 0\n",
      "Step: 36 - Action: {'a': 9, 'ps': 0.1} - Observation: None - Reward: 0\n",
      "Step: 37 - Action: {'a': 6, 'ps': 0.1} - Observation: None - Reward: 0\n",
      "Step: 38 - Action: {'a': 7, 'ps': 0.1} - Observation: None - Reward: 0\n",
      "Step: 39 - Action: {'a': 3, 'ps': 0.1} - Observation: None - Reward: 0\n",
      "Step: 40 - Action: {'a': 9, 'ps': 0.1} - Observation: None - Reward: 0\n",
      "Step: 41 - Action: {'a': 7, 'ps': 0.1} - Observation: None - Reward: 0\n",
      "Step: 42 - Action: {'a': 5, 'ps': 0.1} - Observation: None - Reward: 0\n",
      "Step: 43 - Action: {'a': 4, 'ps': 0.1} - Observation: None - Reward: 0\n",
      "Step: 44 - Action: {'a': 4, 'ps': 0.1} - Observation: None - Reward: 0\n",
      "Step: 45 - Action: {'a': 4, 'ps': 0.1} - Observation: None - Reward: 0\n",
      "Step: 46 - Action: {'a': 0, 'ps': 0.1} - Observation: None - Reward: 0\n",
      "Step: 47 - Action: {'a': 8, 'ps': 0.1} - Observation: None - Reward: 0\n",
      "Step: 48 - Action: {'a': 0, 'ps': 0.1} - Observation: None - Reward: 0\n",
      "Step: 49 - Action: {'a': 4, 'ps': 0.1} - Observation: None - Reward: 0\n",
      "Step: 50 - Action: {'a': 0, 'ps': 0.1} - Observation: None - Reward: 0\n",
      "Step: 51 - Action: {'a': 5, 'ps': 0.1} - Observation: None - Reward: 0\n",
      "Step: 52 - Action: {'a': 6, 'ps': 0.1} - Observation: None - Reward: 0\n",
      "Step: 53 - Action: {'a': 1, 'ps': 0.1} - Observation: [('pageview', 9)] - Reward: 0\n",
      "Step: 54 - Action: {'a': 8, 'ps': 0.1} - Observation: None - Reward: 0\n",
      "Step: 55 - Action: {'a': 1, 'ps': 0.1} - Observation: None - Reward: 0\n",
      "Step: 56 - Action: {'a': 5, 'ps': 0.1} - Observation: None - Reward: 0\n",
      "Step: 57 - Action: {'a': 0, 'ps': 0.1} - Observation: None - Reward: 0\n",
      "Step: 58 - Action: {'a': 5, 'ps': 0.1} - Observation: None - Reward: 0\n",
      "Step: 59 - Action: {'a': 1, 'ps': 0.1} - Observation: None - Reward: 0\n",
      "Step: 60 - Action: {'a': 8, 'ps': 0.1} - Observation: None - Reward: 0\n",
      "Step: 61 - Action: {'a': 1, 'ps': 0.1} - Observation: None - Reward: 0\n",
      "Step: 62 - Action: {'a': 8, 'ps': 0.1} - Observation: None - Reward: 0\n",
      "Step: 63 - Action: {'a': 3, 'ps': 0.1} - Observation: None - Reward: 0\n",
      "Step: 64 - Action: {'a': 8, 'ps': 0.1} - Observation: None - Reward: 0\n",
      "Step: 65 - Action: {'a': 0, 'ps': 0.1} - Observation: None - Reward: 0\n",
      "Step: 66 - Action: {'a': 0, 'ps': 0.1} - Observation: None - Reward: 0\n",
      "Step: 67 - Action: {'a': 2, 'ps': 0.1} - Observation: None - Reward: 0\n",
      "Step: 68 - Action: {'a': 5, 'ps': 0.1} - Observation: None - Reward: 0\n",
      "Step: 69 - Action: {'a': 9, 'ps': 0.1} - Observation: None - Reward: 0\n",
      "Step: 70 - Action: {'a': 2, 'ps': 0.1} - Observation: None - Reward: 0\n",
      "Step: 71 - Action: {'a': 7, 'ps': 0.1} - Observation: None - Reward: 0\n",
      "Step: 72 - Action: {'a': 0, 'ps': 0.1} - Observation: None - Reward: 0\n",
      "Step: 73 - Action: {'a': 9, 'ps': 0.1} - Observation: None - Reward: 0\n",
      "Step: 74 - Action: {'a': 3, 'ps': 0.1} - Observation: None - Reward: 0\n",
      "Step: 75 - Action: {'a': 9, 'ps': 0.1} - Observation: None - Reward: 0\n",
      "Step: 76 - Action: {'a': 7, 'ps': 0.1} - Observation: None - Reward: 0\n",
      "Step: 77 - Action: {'a': 9, 'ps': 0.1} - Observation: None - Reward: 0\n",
      "Step: 78 - Action: {'a': 0, 'ps': 0.1} - Observation: None - Reward: 0\n",
      "Step: 79 - Action: {'a': 8, 'ps': 0.1} - Observation: None - Reward: 0\n",
      "Step: 80 - Action: {'a': 2, 'ps': 0.1} - Observation: None - Reward: 0\n",
      "Step: 81 - Action: {'a': 0, 'ps': 0.1} - Observation: None - Reward: 0\n",
      "Step: 82 - Action: {'a': 0, 'ps': 0.1} - Observation: None - Reward: 0\n",
      "Step: 83 - Action: {'a': 7, 'ps': 0.1} - Observation: None - Reward: 0\n",
      "Step: 84 - Action: {'a': 5, 'ps': 0.1} - Observation: None - Reward: 0\n",
      "Step: 85 - Action: {'a': 0, 'ps': 0.1} - Observation: None - Reward: 0\n",
      "Step: 86 - Action: {'a': 7, 'ps': 0.1} - Observation: None - Reward: 0\n",
      "Step: 87 - Action: {'a': 7, 'ps': 0.1} - Observation: None - Reward: 0\n",
      "Step: 88 - Action: {'a': 0, 'ps': 0.1} - Observation: None - Reward: 0\n",
      "Step: 89 - Action: {'a': 9, 'ps': 0.1} - Observation: [('pageview', 9), ('pageview', 5), ('pageview', 5)] - Reward: 0\n",
      "Step: 90 - Action: {'a': 1, 'ps': 0.1} - Observation: None - Reward: 0\n",
      "Step: 91 - Action: {'a': 8, 'ps': 0.1} - Observation: None - Reward: 0\n",
      "Step: 92 - Action: {'a': 0, 'ps': 0.1} - Observation: None - Reward: 0\n",
      "Step: 93 - Action: {'a': 0, 'ps': 0.1} - Observation: None - Reward: 0\n",
      "Step: 94 - Action: {'a': 3, 'ps': 0.1} - Observation: None - Reward: 0\n",
      "Step: 95 - Action: {'a': 8, 'ps': 0.1} - Observation: None - Reward: 0\n",
      "Step: 96 - Action: {'a': 0, 'ps': 0.1} - Observation: None - Reward: 0\n",
      "Step: 97 - Action: {'a': 7, 'ps': 0.1} - Observation: None - Reward: 0\n",
      "Step: 98 - Action: {'a': 9, 'ps': 0.1} - Observation: None - Reward: 0\n"
     ]
    }
   ],
   "source": [
    "import gym, reco_gym\n",
    "\n",
    "# env_0_args is a dictionary of default parameters (i.e. number of products)\n",
    "from reco_gym import env_1_args\n",
    "\n",
    "# You can overwrite environment arguments here:\n",
    "env_1_args['random_seed'] = 42\n",
    "\n",
    "# Initialize the gym for the first time by calling .make() and .init_gym()\n",
    "env = gym.make('reco-gym-v1')\n",
    "env.init_gym(env_1_args)\n",
    "\n",
    "# .reset() env before each episode (one episode per user).\n",
    "env.reset()\n",
    "done = False\n",
    "\n",
    "# Counting how many steps.\n",
    "i = 0\n",
    "\n",
    "observation, reward, done = None, 0, False\n",
    "while not done:\n",
    "    action, observation, reward, done, info = env.step_offline(observation, reward, done)\n",
    "    print(f\"Step: {i} - Action: {action} - Observation: {observation} - Reward: {reward}\")\n",
    "    i += 1"
   ]
  },
  {
   "cell_type": "markdown",
   "metadata": {},
   "source": [
    "Okay, there's quite a bit going on here:  \n",
    "- `action`, is a number between `0` and `num_products - 1` that references the index of the product recommended.   \n",
    "- `observation` will either be `None` or a session of Organic data, showing the index of products the user views. \n",
    "- `reward` is 0 if the user does not click on the recommended product and 1 if they do.  Notice that when a user clicks on a product (Wherever the reward is 1), they start a new Organic session.\n",
    "- `done` is a True/False flag indicating if the episode (aka user's timeline) is over.  \n",
    "- `info` currently not used, so it is always an empty dictionary.\n",
    "\n",
    "Also, notice that the first `action` is `None`.  In our implementation, the agent observes Organic behaviour before recommending anything.\n",
    "\n",
    "Now, we will show calling the environment in an online manner, where the agent needs to supply an action. For demonstration purposes, we will create a list of hard-coded actions. "
   ]
  },
  {
   "cell_type": "code",
   "execution_count": 2,
   "metadata": {},
   "outputs": [
    {
     "name": "stdout",
     "output_type": "stream",
     "text": [
      "Step: 0 - Action: None - Observation: [('pageview', 4), ('pageview', 4), ('pageview', 4), ('pageview', 4), ('pageview', 4), ('pageview', 4)] - Reward: None\n",
      "Step: 1 - Action: 1 - Observation: None - Reward: 0\n",
      "Step: 2 - Action: 2 - Observation: None - Reward: 0\n",
      "Step: 3 - Action: 3 - Observation: [('pageview', 4), ('pageview', 9), ('pageview', 9)] - Reward: 0\n",
      "Step: 4 - Action: 4 - Observation: [('pageview', 9)] - Reward: 0\n"
     ]
    }
   ],
   "source": [
    "# Create list of hard coded actions.\n",
    "actions = [None] + [1, 2, 3, 4, 5]\n",
    "\n",
    "# Reset env and set done to False.\n",
    "env.reset()\n",
    "done = False\n",
    "\n",
    "# Counting how many steps.\n",
    "i = 0\n",
    "\n",
    "while not done and i < len(actions):\n",
    "    action = actions[i]\n",
    "    observation, reward, done, info = env.step(action)\n",
    "    print(f\"Step: {i} - Action: {action} - Observation: {observation} - Reward: {reward}\")\n",
    "    i += 1"
   ]
  },
  {
   "cell_type": "markdown",
   "metadata": {},
   "source": [
    "You'll notice that the offline and online APIs are nearly identical.  The only difference is that one calls either env.step_offline() or env.step(action)."
   ]
  },
  {
   "cell_type": "markdown",
   "metadata": {},
   "source": [
    "## Creating our first agent\n",
    "\n",
    "Now that we see have seen how the offline and online versions of the environment work, it is time to code our first recommendation agent!  Technically, an agent can be anything that produces actions for the environment to use.  However, we will show you the object-oriented way we like to create agents.\n",
    "\n",
    "Below is the code for a very simple agent - the popularity based agent. The popularity based agent records merely how many times a user sees each product organically, then when required to make a recommendation, the agent chooses a product randomly in proportion with a number of times the user has viewed it."
   ]
  },
  {
   "cell_type": "code",
   "execution_count": 4,
   "metadata": {},
   "outputs": [],
   "source": [
    "import numpy as np\n",
    "from numpy.random import choice\n",
    "\n",
    "\n",
    "# Define an Agent class.\n",
    "class PopularityAgent:\n",
    "    def __init__(self, num_products):\n",
    "        # Set number of products as an attribute of the Agent.\n",
    "        self.num_products = num_products\n",
    "\n",
    "        # Track number of times each item viewed in Organic session.\n",
    "        self.organic_views = np.zeros(self.num_products)\n",
    "\n",
    "    def train(self, observation, action, reward, done):\n",
    "        \"\"\"Train method learns from a tuple of data.\n",
    "            this method can be called for offline or online learning\"\"\"\n",
    "\n",
    "        # Adding organic session to organic view counts.\n",
    "        if observation is not None:\n",
    "            for product in observation.get_views():\n",
    "                self.organic_views[product] += 1\n",
    "\n",
    "    def act(self, observation, reward, done):\n",
    "        \"\"\"Act method returns an action based on current observation and past\n",
    "            history\"\"\"\n",
    "\n",
    "        # Choosing action randomly in proportion with number of views.\n",
    "        prob = self.organic_views / sum(self.organic_views)\n",
    "        action = choice(self.num_products, p = prob)\n",
    "\n",
    "        return {\n",
    "            'a': action,\n",
    "            'ps': prob[action]\n",
    "        }"
   ]
  },
  {
   "cell_type": "markdown",
   "metadata": {},
   "source": [
    "The `PopularityAgent` class above demonstrates our preferred way to create agents for RecoGym. Notice how we have both a `train` and `act` method present. The `train` method is designed to take in training data from the environments `step_offline` method and thus has nothing to return, while the `act` method must return an action to pass back into the environment. \n",
    "\n",
    "The code below highlights how one would use this agent for first offline training and then using the learned knowledge to make recommendations online."
   ]
  },
  {
   "cell_type": "code",
   "execution_count": 5,
   "metadata": {},
   "outputs": [
    {
     "name": "stdout",
     "output_type": "stream",
     "text": [
      "Click Through Rate: 0.0251\n"
     ]
    }
   ],
   "source": [
    "# Instantiate instance of PopularityAgent class.\n",
    "num_products = 10\n",
    "agent = PopularityAgent(num_products)\n",
    "\n",
    "# Resets random seed back to 42, or whatever we set it to in env_0_args.\n",
    "env.reset_random_seed()\n",
    "\n",
    "# Train on 1000 users offline.\n",
    "num_offline_users = 1000\n",
    "\n",
    "for _ in range(num_offline_users):\n",
    "\n",
    "    # Reset env and set done to False.\n",
    "    env.reset()\n",
    "    done = False\n",
    "\n",
    "    observation, reward, done = None, 0, False\n",
    "    while not done:\n",
    "        old_observation = observation\n",
    "        action, observation, reward, done, info = env.step_offline(observation, reward, done)\n",
    "        agent.train(old_observation, action, reward, done)\n",
    "\n",
    "# Train on 100 users online and track click through rate.\n",
    "num_online_users = 100\n",
    "num_clicks, num_events = 0, 0\n",
    "\n",
    "for _ in range(num_online_users):\n",
    "\n",
    "    # Reset env and set done to False.\n",
    "    env.reset()\n",
    "    observation, _, done, _ = env.step(None)\n",
    "    reward = None\n",
    "    done = None\n",
    "    while not done:\n",
    "        action = agent.act(observation, reward, done)\n",
    "        observation, reward, done, info = env.step(action['a'])\n",
    "\n",
    "        # Used for calculating click through rate.\n",
    "        num_clicks += 1 if reward == 1 and reward is not None else 0\n",
    "        num_events += 1\n",
    "\n",
    "ctr = num_clicks / num_events\n",
    "\n",
    "print(f\"Click Through Rate: {ctr:.4f}\")"
   ]
  },
  {
   "cell_type": "markdown",
   "metadata": {},
   "source": [
    "## Testing our first agent\n",
    "\n",
    "Now we have created our popularity based agent, and we should test it against an even simpler baseline - one that performs no learning and recommends products uniformly at random. To do this, we will first load a more complex version of the toy data environment called `reco-gym-v1`.\n",
    "\n",
    "Next, we will load another agent for our agent to compete against each other. Here you can see we make use of the `RandomAgent` and create an instance of it in addition to our `PopularityAgent`."
   ]
  },
  {
   "cell_type": "code",
   "execution_count": 6,
   "metadata": {},
   "outputs": [],
   "source": [
    "import gym, reco_gym\n",
    "from reco_gym import env_1_args\n",
    "\n",
    "from copy import deepcopy\n",
    "\n",
    "env_1_args['random_seed'] = 42\n",
    "\n",
    "env = gym.make('reco-gym-v1')\n",
    "env.init_gym(env_1_args)\n",
    "\n",
    "# Import the random agent.\n",
    "from agents import RandomAgent, random_args\n",
    "\n",
    "# Create the two agents.\n",
    "num_products = env_1_args['num_products']\n",
    "popularity_agent = PopularityAgent(num_products)\n",
    "agent_rand = RandomAgent(random_args)"
   ]
  },
  {
   "cell_type": "markdown",
   "metadata": {},
   "source": [
    "Now we have instances of our two agents. We can use the `test_agent` method from RecoGym and compare there performance.\n",
    "\n",
    "To use `test_agent`, one must provide a copy of the current env, a copy of the agent class, the number of training users and the number of testing users. "
   ]
  },
  {
   "cell_type": "code",
   "execution_count": 7,
   "metadata": {},
   "outputs": [
    {
     "name": "stdout",
     "output_type": "stream",
     "text": [
      "Starting Agent Training\n",
      "Starting Agent Testing\n"
     ]
    },
    {
     "data": {
      "text/plain": [
       "(0.017997755260215065, 0.017081166621997854, 0.018945951629083857)"
      ]
     },
     "execution_count": 7,
     "metadata": {},
     "output_type": "execute_result"
    }
   ],
   "source": [
    "# Credible interval of the CTR median and 0.025 0.975 quantile.\n",
    "reco_gym.test_agent(deepcopy(env), deepcopy(agent_rand), 1000, 1000)"
   ]
  },
  {
   "cell_type": "code",
   "execution_count": 7,
   "metadata": {},
   "outputs": [
    {
     "name": "stdout",
     "output_type": "stream",
     "text": [
      "Starting Agent Training\n",
      "Starting Agent Testing\n"
     ]
    },
    {
     "data": {
      "text/plain": [
       "(0.026437674029394904, 0.025316134705113527, 0.027590947023798718)"
      ]
     },
     "execution_count": 7,
     "metadata": {},
     "output_type": "execute_result"
    }
   ],
   "source": [
    "# Credible interval of the CTR median and 0.025 0.975 quantile.\n",
    "reco_gym.test_agent(deepcopy(env), deepcopy(popularity_agent), 1000, 1000) "
   ]
  },
  {
   "cell_type": "markdown",
   "metadata": {},
   "source": [
    "We see an improvement in the click-through rate for the popularity agent."
   ]
  }
 ],
 "metadata": {
  "kernelspec": {
   "display_name": "Python 3",
   "language": "python",
   "name": "python3"
  },
  "language_info": {
   "codemirror_mode": {
    "name": "ipython",
    "version": 3
   },
   "file_extension": ".py",
   "mimetype": "text/x-python",
   "name": "python",
   "nbconvert_exporter": "python",
   "pygments_lexer": "ipython3",
   "version": "3.7.1"
  }
 },
 "nbformat": 4,
 "nbformat_minor": 2
}
