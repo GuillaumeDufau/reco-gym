{
 "cells": [
  {
   "cell_type": "markdown",
   "metadata": {},
   "source": [
    "## What is RecoGym?\n",
    "\n",
    "RecoGym is a Python [OpenAI Gym](https://gym.openai.com/) environment for testing recommendation algorithms.  It allows for the testing of both offline and reinforcement-learning based agents.  It provides a way to quickly test algorithms in a toy environment.\n",
    "\n",
    "In this notebook we will code a simple recommendation agent that suggests an item in proportion to how many times it's been viewed.  We hope to inspire you to create your own agents and test them against our baseline models.\n",
    "\n",
    "In order to make the most out of RecoGym, we suggest you have some experience coding in Python, some background knowledge in recommender systems, and familiarity with the reinforcement learning setup.  Also, be sure to check out the python-based requirements in the README if something below errors."
   ]
  },
  {
   "cell_type": "markdown",
   "metadata": {},
   "source": [
    "## Reinforcement Learning Setup\n",
    "\n",
    "RecoGym follows the usual reinforcement learning setup.  This means there are interactions between the environment (the user's behavior) and the agent (our recommendation algorithm).  The agent receives reward if the user clicks on the recommendation."
   ]
  },
  {
   "cell_type": "markdown",
   "metadata": {},
   "source": [
    "<img src=\"images/rl-setup.png\" alt=\"Drawing\" style=\"width: 600px;\"/>"
   ]
  },
  {
   "cell_type": "markdown",
   "metadata": {},
   "source": [
    "## Organic and Bandit\n",
    "\n",
    "Even though our focus is biased towards online advertising, we tried to make RecoGym universal to all types of recommendation.  Hence, we introduce the domain-agnostic terms Organic and Bandit sessions.  An Organic session is an observation of items the user interacts with.  For example, it could be views of products on an e-commerce website, listens to songs while streaming music, or readings of articles on an online newspaper.  A Bandit session is one where we have an opportunity to recommend the user an item and observe their behavior.  We receive a reward if they click.\n",
    "\n",
    "<img src=\"images/organic-bandit.png\" alt=\"Drawing\" style=\"width: 450px;\"/>"
   ]
  },
  {
   "cell_type": "markdown",
   "metadata": {},
   "source": [
    "## Offline and Online Learning\n",
    "\n",
    "This project was born out of a desire to improve Criteo's recommendation system by exploring reinforcement learning algorithms. We quickly realized that we can't just blindly apply RL algorithms in a production system out of the box. The learning period would be too costly. Instead, we need to leverage the vast amounts of offline training examples we already to make the algorithm perform as good as the current system before releasing into the online production environment.\n",
    "\n",
    "Thus, RecoGym follows a similar flow. An agent is first given access to many offline training examples produced from a fixed policy. Then, they have access to the online system where they choose the actions."
   ]
  },
  {
   "cell_type": "markdown",
   "metadata": {},
   "source": [
    "<img src=\"images/two-steps.png\" alt=\"Drawing\" style=\"width: 450px;\"/>"
   ]
  },
  {
   "cell_type": "markdown",
   "metadata": {},
   "source": [
    "## Let's see some code - Interacting with the environment \n",
    "\n",
    "\n",
    "The code snippet below shows how to initialize the environment and step through in an 'offline' manner (Here offline means that the environment is generating some recommendations for us).  We print out the results from the environment at each step."
   ]
  },
  {
   "cell_type": "code",
   "execution_count": 1,
   "metadata": {},
   "outputs": [
    {
     "name": "stdout",
     "output_type": "stream",
     "text": [
      "Step: 0 - Action: None - Observation: [('pageview', 4)] - Reward: None\n",
      "Step: 1 - Action: 9 - Observation: None - Reward: 0\n",
      "Step: 2 - Action: 3 - Observation: None - Reward: 0\n",
      "Step: 3 - Action: 6 - Observation: [('pageview', 5), ('pageview', 4), ('pageview', 5)] - Reward: 0\n",
      "Step: 4 - Action: 0 - Observation: None - Reward: 0\n",
      "Step: 5 - Action: 4 - Observation: [('pageview', 5)] - Reward: 0\n",
      "Step: 6 - Action: 2 - Observation: None - Reward: 0\n",
      "Step: 7 - Action: 3 - Observation: None - Reward: 0\n",
      "Step: 8 - Action: 6 - Observation: None - Reward: 0\n",
      "Step: 9 - Action: 9 - Observation: None - Reward: 0\n",
      "Step: 10 - Action: 5 - Observation: None - Reward: 0\n",
      "Step: 11 - Action: 8 - Observation: None - Reward: 0\n",
      "Step: 12 - Action: 4 - Observation: None - Reward: 0\n",
      "Step: 13 - Action: 5 - Observation: [('pageview', 7)] - Reward: 0\n",
      "Step: 14 - Action: 2 - Observation: None - Reward: 0\n",
      "Step: 15 - Action: 6 - Observation: None - Reward: 0\n",
      "Step: 16 - Action: 0 - Observation: None - Reward: 0\n",
      "Step: 17 - Action: 2 - Observation: None - Reward: 0\n",
      "Step: 18 - Action: 2 - Observation: None - Reward: 0\n",
      "Step: 19 - Action: 7 - Observation: None - Reward: 0\n",
      "Step: 20 - Action: 1 - Observation: None - Reward: 0\n",
      "Step: 21 - Action: 3 - Observation: None - Reward: 0\n",
      "Step: 22 - Action: 2 - Observation: None - Reward: 0\n",
      "Step: 23 - Action: 5 - Observation: None - Reward: 0\n",
      "Step: 24 - Action: 1 - Observation: None - Reward: 0\n",
      "Step: 25 - Action: 2 - Observation: None - Reward: 0\n",
      "Step: 26 - Action: 9 - Observation: None - Reward: 0\n",
      "Step: 27 - Action: 4 - Observation: None - Reward: 0\n",
      "Step: 28 - Action: 9 - Observation: None - Reward: 0\n",
      "Step: 29 - Action: 1 - Observation: [('pageview', 9), ('pageview', 9), ('pageview', 9), ('pageview', 9)] - Reward: 0\n",
      "Step: 30 - Action: 4 - Observation: None - Reward: 0\n",
      "Step: 31 - Action: 1 - Observation: None - Reward: 0\n",
      "Step: 32 - Action: 6 - Observation: None - Reward: 0\n",
      "Step: 33 - Action: 8 - Observation: None - Reward: 0\n",
      "Step: 34 - Action: 6 - Observation: None - Reward: 0\n",
      "Step: 35 - Action: 0 - Observation: None - Reward: 0\n",
      "Step: 36 - Action: 9 - Observation: None - Reward: 0\n",
      "Step: 37 - Action: 6 - Observation: None - Reward: 0\n",
      "Step: 38 - Action: 7 - Observation: None - Reward: 0\n",
      "Step: 39 - Action: 3 - Observation: None - Reward: 0\n",
      "Step: 40 - Action: 9 - Observation: None - Reward: 0\n",
      "Step: 41 - Action: 7 - Observation: None - Reward: 0\n",
      "Step: 42 - Action: 5 - Observation: None - Reward: 0\n",
      "Step: 43 - Action: 4 - Observation: None - Reward: 0\n",
      "Step: 44 - Action: 4 - Observation: None - Reward: 0\n",
      "Step: 45 - Action: 4 - Observation: None - Reward: 0\n",
      "Step: 46 - Action: 0 - Observation: None - Reward: 0\n",
      "Step: 47 - Action: 8 - Observation: None - Reward: 0\n",
      "Step: 48 - Action: 0 - Observation: None - Reward: 0\n",
      "Step: 49 - Action: 4 - Observation: None - Reward: 0\n",
      "Step: 50 - Action: 0 - Observation: None - Reward: 0\n",
      "Step: 51 - Action: 5 - Observation: None - Reward: 0\n",
      "Step: 52 - Action: 6 - Observation: None - Reward: 0\n",
      "Step: 53 - Action: 1 - Observation: [('pageview', 9)] - Reward: 0\n",
      "Step: 54 - Action: 8 - Observation: None - Reward: 0\n",
      "Step: 55 - Action: 1 - Observation: None - Reward: 0\n",
      "Step: 56 - Action: 5 - Observation: None - Reward: 0\n",
      "Step: 57 - Action: 0 - Observation: None - Reward: 0\n",
      "Step: 58 - Action: 5 - Observation: None - Reward: 0\n",
      "Step: 59 - Action: 1 - Observation: None - Reward: 0\n",
      "Step: 60 - Action: 8 - Observation: None - Reward: 0\n",
      "Step: 61 - Action: 1 - Observation: None - Reward: 0\n",
      "Step: 62 - Action: 8 - Observation: None - Reward: 0\n",
      "Step: 63 - Action: 3 - Observation: None - Reward: 0\n",
      "Step: 64 - Action: 8 - Observation: None - Reward: 0\n",
      "Step: 65 - Action: 0 - Observation: None - Reward: 0\n",
      "Step: 66 - Action: 0 - Observation: None - Reward: 0\n",
      "Step: 67 - Action: 2 - Observation: None - Reward: 0\n",
      "Step: 68 - Action: 5 - Observation: None - Reward: 0\n",
      "Step: 69 - Action: 9 - Observation: None - Reward: 0\n",
      "Step: 70 - Action: 2 - Observation: None - Reward: 0\n",
      "Step: 71 - Action: 7 - Observation: None - Reward: 0\n",
      "Step: 72 - Action: 0 - Observation: None - Reward: 0\n",
      "Step: 73 - Action: 9 - Observation: None - Reward: 0\n",
      "Step: 74 - Action: 3 - Observation: None - Reward: 0\n",
      "Step: 75 - Action: 9 - Observation: None - Reward: 0\n",
      "Step: 76 - Action: 7 - Observation: None - Reward: 0\n",
      "Step: 77 - Action: 9 - Observation: None - Reward: 0\n",
      "Step: 78 - Action: 0 - Observation: None - Reward: 0\n",
      "Step: 79 - Action: 8 - Observation: None - Reward: 0\n",
      "Step: 80 - Action: 2 - Observation: None - Reward: 0\n",
      "Step: 81 - Action: 0 - Observation: None - Reward: 0\n",
      "Step: 82 - Action: 0 - Observation: None - Reward: 0\n",
      "Step: 83 - Action: 7 - Observation: None - Reward: 0\n",
      "Step: 84 - Action: 5 - Observation: None - Reward: 0\n",
      "Step: 85 - Action: 0 - Observation: None - Reward: 0\n",
      "Step: 86 - Action: 7 - Observation: None - Reward: 0\n",
      "Step: 87 - Action: 7 - Observation: None - Reward: 0\n",
      "Step: 88 - Action: 0 - Observation: None - Reward: 0\n",
      "Step: 89 - Action: 9 - Observation: [('pageview', 9), ('pageview', 5), ('pageview', 5)] - Reward: 0\n",
      "Step: 90 - Action: 1 - Observation: None - Reward: 0\n",
      "Step: 91 - Action: 8 - Observation: None - Reward: 0\n",
      "Step: 92 - Action: 0 - Observation: None - Reward: 0\n",
      "Step: 93 - Action: 0 - Observation: None - Reward: 0\n",
      "Step: 94 - Action: 3 - Observation: None - Reward: 0\n",
      "Step: 95 - Action: 8 - Observation: None - Reward: 0\n",
      "Step: 96 - Action: 0 - Observation: None - Reward: 0\n",
      "Step: 97 - Action: 7 - Observation: None - Reward: 0\n",
      "Step: 98 - Action: 9 - Observation: None - Reward: 0\n"
     ]
    }
   ],
   "source": [
    "import gym, reco_gym\n",
    "\n",
    "# env_0_args is a dictionary of default parameters (i.e. number of products)\n",
    "from reco_gym import env_1_args\n",
    "\n",
    "# you can overwrite environment arguments here:\n",
    "env_1_args['random_seed'] = 42\n",
    "\n",
    "# initialize the gym for the first time by calling .make() and .init_gym()\n",
    "env = gym.make('reco-gym-v1')\n",
    "env.init_gym(env_1_args)\n",
    "\n",
    "# .reset() env before each episode (one episode per user)\n",
    "env.reset()\n",
    "done = False\n",
    "\n",
    "# counting how many steps\n",
    "i = 0 \n",
    "\n",
    "while not done:\n",
    "    action, observation, reward, done, info = env.step_offline()\n",
    "    print(f\"Step: {i} - Action: {action} - Observation: {observation} - Reward: {reward}\")\n",
    "    i += 1"
   ]
  },
  {
   "cell_type": "markdown",
   "metadata": {},
   "source": [
    "Okay, there's quite a bit going on here:  \n",
    "- `action`, is a number between `0` and `num_products - 1` that references the index of the product recommended.   \n",
    "- `observation` will either be `None` or a session of Organic data, showing the index of products the user views. \n",
    "- `reward` is 0 if the user does not click on the recommended product and 1 if the do.  Notice that when a user clicks on a product (Wherever the reward is 1), they start a new Organic session.\n",
    "- `done` is a True/False flag indicating if the episode (aka user's timeline) is over.  \n",
    "- `info` currently not used so it's always an empty dictionary.\n",
    "\n",
    "Also, notice that the first `action` is `None`.  In our implementation, the agent observes Organic behavior before recommending anything.\n",
    "\n",
    "Now, we'll show calling the environment in an online manner, where the agent needs to supply an action. For demonstration purposes, we will create a list of hard-coded actions. "
   ]
  },
  {
   "cell_type": "code",
   "execution_count": 2,
   "metadata": {},
   "outputs": [
    {
     "name": "stdout",
     "output_type": "stream",
     "text": [
      "Step: 0 - Action: None - Observation: [('pageview', 4), ('pageview', 4), ('pageview', 4), ('pageview', 4), ('pageview', 4), ('pageview', 4)] - Reward: None\n",
      "Step: 1 - Action: 1 - Observation: None - Reward: 0\n",
      "Step: 2 - Action: 2 - Observation: None - Reward: 0\n",
      "Step: 3 - Action: 3 - Observation: [('pageview', 4), ('pageview', 9), ('pageview', 9)] - Reward: 0\n",
      "Step: 4 - Action: 4 - Observation: [('pageview', 9)] - Reward: 0\n"
     ]
    }
   ],
   "source": [
    "# create list of hard coded actions\n",
    "actions = [None] + [1, 2, 3, 4, 5]\n",
    "\n",
    "# reset env and set done to False\n",
    "env.reset()\n",
    "done = False\n",
    "\n",
    "# counting how many steps\n",
    "i = 0 \n",
    "\n",
    "while not done and i < len(actions):\n",
    "    action = actions[i]\n",
    "    observation, reward, done, info = env.step(action)\n",
    "    print(f\"Step: {i} - Action: {action} - Observation: {observation} - Reward: {reward}\")\n",
    "    i += 1"
   ]
  },
  {
   "cell_type": "markdown",
   "metadata": {},
   "source": [
    "You'll notice that the offline and online APIs are nearly identical.  The only difference is that one calls either env.step_offline() or env.step(action)."
   ]
  },
  {
   "cell_type": "markdown",
   "metadata": {},
   "source": [
    "## Creating our first agent\n",
    "\n",
    "Now that we see have seen how the offline and online versions of the environment work, it's time to code our first recommendation agent!  Technically, an agent can be anything that produces actions for the environment to to use.  However, we will show you the object-oriented way we like to create agents.\n",
    "\n",
    "Below is the code for a very simply agent - the popularity based agent. The popularity based agent simply records how many times a user sees each product organically, then when required to make a recommendation, the agent choses a product randomly in proportion with number of times the user has viewed it."
   ]
  },
  {
   "cell_type": "code",
   "execution_count": 3,
   "metadata": {},
   "outputs": [],
   "source": [
    "import numpy as np\n",
    "from numpy.random import choice\n",
    "\n",
    "# define agent class\n",
    "class PopularityAgent:\n",
    "    def __init__(self, num_products):\n",
    "        # set number of products as an attribute of agent\n",
    "        self.num_products = num_products\n",
    "        \n",
    "        # track number of times each item viewed in Organic session\n",
    "        self.organic_views = np.zeros(self.num_products)\n",
    "        \n",
    "    def train(self, observation, action, reward, done):\n",
    "        \"\"\"train method learns from a tuple of data.\n",
    "            this method can be called for offline or online learning\"\"\"\n",
    "        \n",
    "        # adding organic session to organic view counts\n",
    "        if observation is not None:\n",
    "            for product in observation.get_views():\n",
    "                self.organic_views[product] += 1\n",
    "    \n",
    "    def act(self, observation, reward, done):\n",
    "        \"\"\"act method returns an action based on current observation and past\n",
    "            history\"\"\"\n",
    "        \n",
    "        # choosing action randomly in proportion with number of views\n",
    "        prob = self.organic_views / sum(self.organic_views)\n",
    "        action = choice(self.num_products, p = prob)\n",
    "        \n",
    "        return action"
   ]
  },
  {
   "cell_type": "markdown",
   "metadata": {},
   "source": [
    "The `PopularityAgent` class above demonstrates our preferred way to create agents for reco-gym. Notice how we have both a `train` and `act` method present. The `train` method is designed to take in training data from the environments `step_offline` method and thus has nothing to return, whilst the `act` method must return an action to pass back into the environment. \n",
    "\n",
    "The code below highlights how one would use this agent for first offline training and then using the learned knowledge to make recommendations online. "
   ]
  },
  {
   "cell_type": "code",
   "execution_count": 4,
   "metadata": {},
   "outputs": [
    {
     "name": "stdout",
     "output_type": "stream",
     "text": [
      "Click Through Rate: 0.0263\n"
     ]
    }
   ],
   "source": [
    "# instantiate instance of PopularityAgent class\n",
    "num_products = 10\n",
    "agent = PopularityAgent(num_products)\n",
    "\n",
    "# resets random seed back to 42, or whatever we set it to in env_0_args\n",
    "env.reset_random_seed()\n",
    "\n",
    "# train on 1000 users offline\n",
    "num_offline_users = 1000\n",
    "\n",
    "for _ in range(num_offline_users):\n",
    "    \n",
    "    #reset env and set done to False\n",
    "    env.reset()\n",
    "    done = False\n",
    "    \n",
    "    while not done:\n",
    "        old_observation = observation\n",
    "        action, observation, reward, done, info = env.step_offline()\n",
    "        agent.train(old_observation, action, reward, done)\n",
    "\n",
    "# train on 100 users online and track click through rate\n",
    "num_online_users = 100\n",
    "num_clicks, num_events = 0, 0\n",
    "\n",
    "for _ in range(num_online_users):\n",
    "    \n",
    "    #reset env and set done to False\n",
    "    env.reset()\n",
    "    observation, _, done, _ = env.step(None)\n",
    "    reward = None\n",
    "    done = None\n",
    "    while not done:\n",
    "        action = agent.act(observation, reward, done)\n",
    "        observation, reward, done, info = env.step(action)\n",
    "        \n",
    "        # used for calculating click through rate\n",
    "        num_clicks += 1 if reward == 1 and reward is not None else 0\n",
    "        num_events += 1\n",
    "\n",
    "ctr = num_clicks / num_events\n",
    "\n",
    "\n",
    "print(f\"Click Through Rate: {ctr:.4f}\")"
   ]
  },
  {
   "cell_type": "markdown",
   "metadata": {},
   "source": [
    "## Testing our first agent\n",
    "\n",
    "Now we have created our popularity based agent, we should test it against an even simpler baseline - one that performs no learning and recommends products uniformly at random. To do this, we will first load a more complex version of the toy data environment called `reco-gym-v1`.\n",
    "\n",
    "Next we will load another agent for our agent to compete against. Here you can see we make use of the `RandomAgent` and create an instance of it in addition to our `PopularityAgent`."
   ]
  },
  {
   "cell_type": "code",
   "execution_count": 5,
   "metadata": {},
   "outputs": [],
   "source": [
    "import gym, reco_gym\n",
    "from reco_gym import env_1_args\n",
    "\n",
    "from copy import deepcopy\n",
    "\n",
    "env_1_args['random_seed'] = 42\n",
    "\n",
    "env = gym.make('reco-gym-v1')\n",
    "env.init_gym(env_1_args)\n",
    "\n",
    "# Import the random agent\n",
    "from agents import RandomAgent, random_args\n",
    "\n",
    "# Create the two agents\n",
    "num_products = env_1_args['num_products']\n",
    "popularity_agent = PopularityAgent(num_products)\n",
    "agent_rand = RandomAgent(random_args)"
   ]
  },
  {
   "cell_type": "markdown",
   "metadata": {},
   "source": [
    "Now we have instances of our two agents, we can use the `test_agent` method from reco-gym and compare there performance.\n",
    "\n",
    "To use `test_agent`, one must provide a copy of the current env, a copy of the agent class, the number of training users and the number of testing users. "
   ]
  },
  {
   "cell_type": "code",
   "execution_count": 6,
   "metadata": {},
   "outputs": [
    {
     "name": "stdout",
     "output_type": "stream",
     "text": [
      "Starting Agent Training\n",
      "Starting Agent Testing\n"
     ]
    },
    {
     "data": {
      "text/plain": [
       "(0.018444507507702788, 0.017500405252641585, 0.019421321092238708)"
      ]
     },
     "execution_count": 6,
     "metadata": {},
     "output_type": "execute_result"
    }
   ],
   "source": [
    "# credible interval of the ctr median and 0.025 0.975 quantile\n",
    "reco_gym.test_agent(deepcopy(env), deepcopy(agent_rand), 1000, 1000) "
   ]
  },
  {
   "cell_type": "code",
   "execution_count": 7,
   "metadata": {},
   "outputs": [
    {
     "name": "stdout",
     "output_type": "stream",
     "text": [
      "Starting Agent Training\n",
      "Starting Agent Testing\n"
     ]
    },
    {
     "data": {
      "text/plain": [
       "(0.026837156159392188, 0.025703859122250695, 0.028002355026224057)"
      ]
     },
     "execution_count": 7,
     "metadata": {},
     "output_type": "execute_result"
    }
   ],
   "source": [
    "# credible interval of the ctr median and 0.025 0.975 quantile\n",
    "reco_gym.test_agent(deepcopy(env), deepcopy(popularity_agent), 1000, 1000) "
   ]
  },
  {
   "cell_type": "markdown",
   "metadata": {},
   "source": [
    "We see an improvement in the click through rate for the popularity agent."
   ]
  },
  {
   "cell_type": "code",
   "execution_count": null,
   "metadata": {},
   "outputs": [],
   "source": []
  }
 ],
 "metadata": {
  "kernelspec": {
   "display_name": "Python 3",
   "language": "python",
   "name": "python3"
  },
  "language_info": {
   "codemirror_mode": {
    "name": "ipython",
    "version": 3
   },
   "file_extension": ".py",
   "mimetype": "text/x-python",
   "name": "python",
   "nbconvert_exporter": "python",
   "pygments_lexer": "ipython3",
   "version": "3.7.0"
  }
 },
 "nbformat": 4,
 "nbformat_minor": 2
}
