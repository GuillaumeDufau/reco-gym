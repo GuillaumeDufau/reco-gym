{
 "cells": [
  {
   "cell_type": "markdown",
   "metadata": {},
   "source": [
    "# Complex Time Behaviour\n",
    "\n",
    "In _RecoGym_ the notion _Time_ was considered as a set of _tic-tack_ events those were treated equally. In reality, time has a huge impact on model behaviour and it can be simulated quite differently.\n",
    "\n",
    "In this notebook, we will consider std. _Time Generators_ and analyse the impact of their usage."
   ]
  },
  {
   "cell_type": "code",
   "execution_count": 1,
   "metadata": {},
   "outputs": [],
   "source": [
    "import gym, reco_gym\n",
    "from copy import deepcopy\n",
    "from reco_gym import env_1_args\n",
    "import matplotlib.pyplot as plt\n",
    "import numpy as np\n",
    "\n",
    "%matplotlib notebook\n",
    "%config InlineBackend.figure_format = 'retina'\n",
    "plt.rcParams['figure.figsize'] = [8, 4]\n",
    "\n",
    "NumberOfUsers = 1\n",
    "NumberOfSamples = 20\n",
    "\n",
    "env_1_args['random_seed'] = 777\n",
    "env_1_args['sigma_omega'] = 1 # Set a big value do diversify products.\n",
    "\n",
    "env = gym.make('reco-gym-v1')\n",
    "env.init_gym(env_1_args)"
   ]
  },
  {
   "cell_type": "markdown",
   "metadata": {},
   "source": [
    "## Tick-Tack Time\n",
    "\n",
    "The most simplest time interpretation in _RecoGym_ is tick-tack. Thus, if you look at logs of data, you shall find that time is changed incrementally: _`+1`_ during each step."
   ]
  },
  {
   "cell_type": "code",
   "execution_count": 2,
   "metadata": {},
   "outputs": [],
   "source": [
    "std_data = deepcopy(env).generate_logs(NumberOfUsers)"
   ]
  },
  {
   "cell_type": "code",
   "execution_count": 3,
   "metadata": {},
   "outputs": [
    {
     "name": "stdout",
     "output_type": "stream",
     "text": [
      "Data:\n",
      "      t  u        z    v    a    c   ps\n",
      "0    0  0  organic  0.0  NaN  NaN  NaN\n",
      "1    1  0  organic  0.0  NaN  NaN  NaN\n",
      "2    2  0  organic  0.0  NaN  NaN  NaN\n",
      "3    3  0  organic  0.0  NaN  NaN  NaN\n",
      "4    4  0  organic  0.0  NaN  NaN  NaN\n",
      "5    5  0  organic  0.0  NaN  NaN  NaN\n",
      "6    6  0  organic  0.0  NaN  NaN  NaN\n",
      "7    7  0  organic  7.0  NaN  NaN  NaN\n",
      "8    8  0  organic  7.0  NaN  NaN  NaN\n",
      "9    9  0  organic  0.0  NaN  NaN  NaN\n",
      "10  10  0  organic  1.0  NaN  NaN  NaN\n",
      "11  11  0  organic  2.0  NaN  NaN  NaN\n",
      "12  12  0   bandit  NaN  3.0  0.0  0.1\n",
      "13  13  0   bandit  NaN  3.0  0.0  0.1\n",
      "14  14  0   bandit  NaN  8.0  0.0  0.1\n",
      "15  15  0   bandit  NaN  6.0  0.0  0.1\n",
      "16  16  0  organic  8.0  NaN  NaN  NaN\n",
      "17  17  0  organic  0.0  NaN  NaN  NaN\n",
      "18  18  0  organic  0.0  NaN  NaN  NaN\n",
      "19  19  0   bandit  NaN  4.0  0.0  0.1\n",
      "Data Shape:\n",
      " (111, 7)\n"
     ]
    }
   ],
   "source": [
    "print(\"Data:\\n\", std_data[:NumberOfSamples])\n",
    "print(\"Data Shape:\\n\", std_data.shape)"
   ]
  },
  {
   "cell_type": "markdown",
   "metadata": {},
   "source": [
    "*Note:* the column _**`t`**_ represents the time of the event."
   ]
  },
  {
   "cell_type": "markdown",
   "metadata": {},
   "source": [
    "## Normally Distributed Time Changes\n",
    "\n",
    "For the _Normally Distributed Time Changes_, time is changed incrementally by the value in the range _`[0; 1]`_.\n",
    "\n",
    "By default, _Normally Distributed Time Changes_ uses these values for drawing _Normal Ditribution_:\n",
    "* $\\mu=0$\n",
    "* $\\sigma=1$"
   ]
  },
  {
   "cell_type": "code",
   "execution_count": 4,
   "metadata": {},
   "outputs": [],
   "source": [
    "from reco_gym import Configuration\n",
    "\n",
    "from reco_gym import NormalTimeGenerator\n",
    "\n",
    "normal_time_env_01 = {\n",
    "    **env_1_args,\n",
    "    'time_generator': NormalTimeGenerator(Configuration(env_1_args))\n",
    "}\n",
    "\n",
    "env.init_gym(normal_time_env_01)"
   ]
  },
  {
   "cell_type": "code",
   "execution_count": 5,
   "metadata": {},
   "outputs": [],
   "source": [
    "data_01 = deepcopy(env).generate_logs(NumberOfUsers)"
   ]
  },
  {
   "cell_type": "code",
   "execution_count": 7,
   "metadata": {},
   "outputs": [
    {
     "name": "stdout",
     "output_type": "stream",
     "text": [
      "Data:\n",
      "             t  u        z    v    a    c   ps\n",
      "0    0.000000  0  organic  0.0  NaN  NaN  NaN\n",
      "1    0.468209  0  organic  0.0  NaN  NaN  NaN\n",
      "2    1.291034  0  organic  0.0  NaN  NaN  NaN\n",
      "3    1.356414  0  organic  0.0  NaN  NaN  NaN\n",
      "4    2.069776  0  organic  0.0  NaN  NaN  NaN\n",
      "5    2.976127  0  organic  0.0  NaN  NaN  NaN\n",
      "6    3.742363  0  organic  0.0  NaN  NaN  NaN\n",
      "7    4.568417  0  organic  7.0  NaN  NaN  NaN\n",
      "8    5.892100  0  organic  7.0  NaN  NaN  NaN\n",
      "9    7.644545  0  organic  8.0  NaN  NaN  NaN\n",
      "10   8.646994  0  organic  8.0  NaN  NaN  NaN\n",
      "11   9.191803  0  organic  2.0  NaN  NaN  NaN\n",
      "12  11.086964  0   bandit  NaN  3.0  0.0  0.1\n",
      "13  11.856322  0   bandit  NaN  3.0  0.0  0.1\n",
      "14  13.259417  0   bandit  NaN  8.0  0.0  0.1\n",
      "15  13.891885  0   bandit  NaN  6.0  0.0  0.1\n",
      "16  14.450759  0  organic  8.0  NaN  NaN  NaN\n",
      "17  15.683990  0  organic  1.0  NaN  NaN  NaN\n",
      "18  16.123494  0  organic  0.0  NaN  NaN  NaN\n",
      "19  17.038281  0   bandit  NaN  4.0  0.0  0.1\n",
      "Data Shape:\n",
      " (111, 7)\n"
     ]
    }
   ],
   "source": [
    "print(\"Data:\\n\", data_01[:NumberOfSamples])\n",
    "print(\"Data Shape:\\n\", data_01.shape)"
   ]
  },
  {
   "cell_type": "markdown",
   "metadata": {},
   "source": [
    "For a more significant value of $\\mu$ but small $\\sigma$, we shall see that time advances faster."
   ]
  },
  {
   "cell_type": "code",
   "execution_count": 8,
   "metadata": {},
   "outputs": [],
   "source": [
    "normal_time_env_02 = {\n",
    "    **env_1_args,\n",
    "    'time_generator': NormalTimeGenerator(Configuration({\n",
    "        **env_1_args,\n",
    "        'normal_time_mu': 10,\n",
    "        'normal_time_sigma': 0,\n",
    "    }))\n",
    "}\n",
    "\n",
    "env.init_gym(normal_time_env_02)"
   ]
  },
  {
   "cell_type": "code",
   "execution_count": 9,
   "metadata": {},
   "outputs": [],
   "source": [
    "data_02 = deepcopy(env).generate_logs(NumberOfUsers)"
   ]
  },
  {
   "cell_type": "code",
   "execution_count": 10,
   "metadata": {},
   "outputs": [
    {
     "name": "stdout",
     "output_type": "stream",
     "text": [
      "Data:\n",
      "         t  u        z    v    a    c   ps\n",
      "0     0.0  0  organic  0.0  NaN  NaN  NaN\n",
      "1    10.0  0  organic  0.0  NaN  NaN  NaN\n",
      "2    20.0  0  organic  0.0  NaN  NaN  NaN\n",
      "3    30.0  0  organic  9.0  NaN  NaN  NaN\n",
      "4    40.0  0  organic  0.0  NaN  NaN  NaN\n",
      "5    50.0  0  organic  7.0  NaN  NaN  NaN\n",
      "6    60.0  0  organic  7.0  NaN  NaN  NaN\n",
      "7    70.0  0  organic  7.0  NaN  NaN  NaN\n",
      "8    80.0  0  organic  7.0  NaN  NaN  NaN\n",
      "9    90.0  0  organic  8.0  NaN  NaN  NaN\n",
      "10  100.0  0  organic  8.0  NaN  NaN  NaN\n",
      "11  110.0  0  organic  8.0  NaN  NaN  NaN\n",
      "12  120.0  0   bandit  NaN  3.0  0.0  0.1\n",
      "13  130.0  0   bandit  NaN  3.0  0.0  0.1\n",
      "14  140.0  0   bandit  NaN  8.0  0.0  0.1\n",
      "15  150.0  0   bandit  NaN  6.0  0.0  0.1\n",
      "16  160.0  0  organic  8.0  NaN  NaN  NaN\n",
      "17  170.0  0  organic  8.0  NaN  NaN  NaN\n",
      "18  180.0  0  organic  8.0  NaN  NaN  NaN\n",
      "19  190.0  0   bandit  NaN  4.0  0.0  0.1\n",
      "Data Shape:\n",
      " (111, 7)\n"
     ]
    }
   ],
   "source": [
    "print(\"Data:\\n\", data_02[:NumberOfSamples])\n",
    "print(\"Data Shape:\\n\", data_02.shape)"
   ]
  },
  {
   "cell_type": "markdown",
   "metadata": {},
   "source": [
    "Here, you shall find yet another extreme when $\\mu$ is quite small, but $\\sigma$ is big."
   ]
  },
  {
   "cell_type": "code",
   "execution_count": 11,
   "metadata": {},
   "outputs": [],
   "source": [
    "normal_time_env_03 = {\n",
    "    **env_1_args,\n",
    "    'time_generator': NormalTimeGenerator(Configuration({\n",
    "        **env_1_args,\n",
    "        'normal_time_mu': 2,\n",
    "        'normal_time_sigma': 1,\n",
    "    }))\n",
    "}\n",
    "\n",
    "env.init_gym(normal_time_env_03)"
   ]
  },
  {
   "cell_type": "code",
   "execution_count": 12,
   "metadata": {},
   "outputs": [],
   "source": [
    "data_03 = deepcopy(env).generate_logs(NumberOfUsers)"
   ]
  },
  {
   "cell_type": "code",
   "execution_count": 13,
   "metadata": {},
   "outputs": [
    {
     "name": "stdout",
     "output_type": "stream",
     "text": [
      "Data:\n",
      "             t  u        z    v    a    c   ps\n",
      "0    0.000000  0  organic  0.0  NaN  NaN  NaN\n",
      "1    1.531791  0  organic  0.0  NaN  NaN  NaN\n",
      "2    2.708966  0  organic  0.0  NaN  NaN  NaN\n",
      "3    4.643586  0  organic  0.0  NaN  NaN  NaN\n",
      "4    5.930224  0  organic  0.0  NaN  NaN  NaN\n",
      "5    8.836575  0  organic  7.0  NaN  NaN  NaN\n",
      "6   11.602812  0  organic  8.0  NaN  NaN  NaN\n",
      "7   14.428866  0  organic  7.0  NaN  NaN  NaN\n",
      "8   15.105183  0  organic  7.0  NaN  NaN  NaN\n",
      "9   15.352739  0  organic  7.0  NaN  NaN  NaN\n",
      "10  18.355188  0  organic  8.0  NaN  NaN  NaN\n",
      "11  20.899997  0  organic  8.0  NaN  NaN  NaN\n",
      "12  24.795158  0   bandit  NaN  3.0  0.0  0.1\n",
      "13  26.025801  0   bandit  NaN  3.0  0.0  0.1\n",
      "14  26.622705  0   bandit  NaN  8.0  0.0  0.1\n",
      "15  27.990237  0   bandit  NaN  6.0  0.0  0.1\n",
      "16  29.431364  0  organic  8.0  NaN  NaN  NaN\n",
      "17  30.198132  0  organic  8.0  NaN  NaN  NaN\n",
      "18  31.758629  0  organic  8.0  NaN  NaN  NaN\n",
      "19  34.673416  0   bandit  NaN  4.0  0.0  0.1\n",
      "Data Shape:\n",
      " (111, 7)\n"
     ]
    }
   ],
   "source": [
    "print(\"Data:\\n\", data_03[:NumberOfSamples])\n",
    "print(\"Data Shape:\\n\", data_03.shape)"
   ]
  },
  {
   "cell_type": "markdown",
   "metadata": {},
   "source": [
    "Finally, let's analyse the environment where $\\Omega_{\\sigma}$ is changed _**both**_ for _Organic_ and _Bandit_ events with _Normally Distributed Time Changes_."
   ]
  },
  {
   "cell_type": "code",
   "execution_count": 14,
   "metadata": {},
   "outputs": [],
   "source": [
    "normal_time_env_04 = {\n",
    "    **env_1_args,\n",
    "    'change_omega_for_bandits': True,\n",
    "    'time_generator': NormalTimeGenerator(Configuration({\n",
    "        **env_1_args,\n",
    "        'normal_time_mu': 2,\n",
    "        'normal_time_sigma': 1,\n",
    "    })),\n",
    "}\n",
    "\n",
    "env.init_gym(normal_time_env_04)"
   ]
  },
  {
   "cell_type": "code",
   "execution_count": 15,
   "metadata": {},
   "outputs": [],
   "source": [
    "data_04 = deepcopy(env).generate_logs(NumberOfUsers)"
   ]
  },
  {
   "cell_type": "code",
   "execution_count": 16,
   "metadata": {},
   "outputs": [
    {
     "name": "stdout",
     "output_type": "stream",
     "text": [
      "Data:\n",
      "             t  u        z    v    a    c   ps\n",
      "0    0.000000  0  organic  0.0  NaN  NaN  NaN\n",
      "1    1.531791  0  organic  0.0  NaN  NaN  NaN\n",
      "2    2.708966  0  organic  0.0  NaN  NaN  NaN\n",
      "3    4.643586  0  organic  0.0  NaN  NaN  NaN\n",
      "4    5.930224  0  organic  0.0  NaN  NaN  NaN\n",
      "5    8.836575  0  organic  7.0  NaN  NaN  NaN\n",
      "6   11.602812  0  organic  8.0  NaN  NaN  NaN\n",
      "7   14.428866  0  organic  7.0  NaN  NaN  NaN\n",
      "8   15.105183  0  organic  7.0  NaN  NaN  NaN\n",
      "9   15.352739  0  organic  7.0  NaN  NaN  NaN\n",
      "10  18.355188  0  organic  8.0  NaN  NaN  NaN\n",
      "11  20.899997  0  organic  8.0  NaN  NaN  NaN\n",
      "12  24.795158  0   bandit  NaN  3.0  0.0  0.1\n",
      "13  26.025801  0   bandit  NaN  4.0  0.0  0.1\n",
      "14  26.622705  0   bandit  NaN  8.0  0.0  0.1\n",
      "15  27.990237  0   bandit  NaN  2.0  0.0  0.1\n",
      "16  29.431364  0   bandit  NaN  9.0  0.0  0.1\n",
      "17  30.198132  0   bandit  NaN  7.0  0.0  0.1\n",
      "18  31.758629  0   bandit  NaN  3.0  0.0  0.1\n",
      "19  34.673416  0   bandit  NaN  4.0  0.0  0.1\n",
      "Data Shape:\n",
      " (58, 7)\n"
     ]
    }
   ],
   "source": [
    "print(\"Data:\\n\", data_04[:NumberOfSamples])\n",
    "print(\"Data Shape:\\n\", data_04.shape)"
   ]
  }
 ],
 "metadata": {
  "kernelspec": {
   "display_name": "Python 3",
   "language": "python",
   "name": "python3"
  },
  "language_info": {
   "codemirror_mode": {
    "name": "ipython",
    "version": 3
   },
   "file_extension": ".py",
   "mimetype": "text/x-python",
   "name": "python",
   "nbconvert_exporter": "python",
   "pygments_lexer": "ipython3",
   "version": "3.7.1"
  }
 },
 "nbformat": 4,
 "nbformat_minor": 2
}
